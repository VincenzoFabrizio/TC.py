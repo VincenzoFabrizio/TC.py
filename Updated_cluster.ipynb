{
 "cells": [
  {
   "cell_type": "code",
   "execution_count": 1,
   "id": "67f632e0-93a0-4f7f-bf23-ec7e66a94bb5",
   "metadata": {},
   "outputs": [],
   "source": [
    "# %load TC.py\n",
    "import numpy as np\n",
    "from sklearn.cluster import KMeans\n",
    "from sklearn.feature_extraction.text import CountVectorizer\n",
    "from sklearn.feature_extraction.text import TfidfVectorizer\n",
    "import random\n",
    "import textract\n",
    "import os\n",
    "import spacy\n",
    "import pandas as pd"
   ]
  },
  {
   "cell_type": "code",
   "execution_count": 2,
   "id": "b51a061d-50d3-4f5e-a4c1-c84f4e3410a3",
   "metadata": {},
   "outputs": [],
   "source": [
    "# STEP 1: Pull student bios\n",
    "flist=[]\n",
    "for filename in os.listdir('C:/Python/Clustering_algo/TC.py/Data/Faculty_Bios'):  # Go through folder of bios in Word files\n",
    "    ftext=textract.process(f'C:/Python/Clustering_algo/TC.py/Data/Faculty_Bios/{filename}')  # Extract bios\n",
    "    fname = f'{filename}'  # Save the name of the document, which is the last name of the individual\n",
    "    fname = fname.removesuffix(\".docx\")  # Remove .docx so only last name is kept\n",
    "    flist.append(ftext)  # Add the bio texts to a list for processing\n"
   ]
  },
  {
   "cell_type": "code",
   "execution_count": 3,
   "id": "82a34df4-684d-4898-932b-c6ae563bc829",
   "metadata": {},
   "outputs": [],
   "source": [
    "# STEP 2: Identify and quantify student characteristics\n",
    "#  Using BOW\n",
    "vectorizer = TfidfVectorizer(stop_words='english')\n",
    "tfidf = vectorizer.fit_transform(flist)  # Transforms list of documents into a matrix, where each row is an individual\n",
    "                                         # bio and each column is the frequency of each word used in the bio scaled by\n",
    "                                         # its overall frequency across all documents\n",
    "\n",
    "bow_matrix=tfidf.toarray()\n",
    "scores = np.sum(bow_matrix, axis=1)\n",
    "\n",
    "\n",
    "#print(vectorizer.get_feature_names_out(), '\\n')\n",
    "#for doc_vector in tfidf.toarray():\n",
    "#    print(doc_vector)\n"
   ]
  },
  {
   "cell_type": "code",
   "execution_count": 4,
   "id": "848101fe-9edc-4d6f-b1c1-4cc6ceaa80da",
   "metadata": {},
   "outputs": [
    {
     "name": "stderr",
     "output_type": "stream",
     "text": [
      "C:\\Users\\45598dbo\\.conda\\envs\\researchPython\\lib\\site-packages\\sklearn\\cluster\\_kmeans.py:1436: UserWarning: KMeans is known to have a memory leak on Windows with MKL, when there are less chunks than available threads. You can avoid it by setting the environment variable OMP_NUM_THREADS=1.\n",
      "  warnings.warn(\n"
     ]
    }
   ],
   "source": [
    "# STEP 3: Assign students to clusters\n",
    "# Sample data\n",
    "students = list(scores)\n",
    "sarray = np.array(students)\n",
    "\n",
    "os.environ['OMP_NUM_THREADS']=1\n",
    "\n",
    "kmeans = KMeans(\n",
    "   init=\"random\",\n",
    "   n_clusters=5,\n",
    "   n_init=10,  # How many times clustering is done (selects that with lowest error)\n",
    "   max_iter=300\n",
    "\n",
    ")\n",
    "kmeans.fit(sarray.reshape(-1, 1))  # Clustering is done and result is assigned to kmeans.labels_\n",
    "clusters = kmeans.labels_\n"
   ]
  },
  {
   "cell_type": "code",
   "execution_count": 29,
   "id": "5dc91206-b2d3-4633-bc60-6da4612324aa",
   "metadata": {},
   "outputs": [
    {
     "name": "stdout",
     "output_type": "stream",
     "text": [
      "[[12, 23, 18, 5, 20], [22, 6, 7, 13, 1], [9, 11, 21, 4], [17, 10, 2, 19], [15, 8, 16], [3], [14]]\n",
      "[[], [], [], [], []]\n"
     ]
    }
   ],
   "source": [
    "# STEP 4: Assign students to groups\n",
    "# Attach index to cluster assignment to identify students\n",
    "id = [i for i in range(1, len(np.asarray(clusters)) + 1)]\n",
    "clusters_id = np.insert(clusters, 0, id)\n",
    "student_clusters = clusters_id.reshape(2, len(id))\n",
    "\n",
    "# Initialize list of tuples 'sc'\n",
    "sc = [(student_clusters[0][0], student_clusters[1][0])]\n",
    "# Add id-cluster pairs to list\n",
    "for i in range(1, len(student_clusters[0])):\n",
    "    sc.append((student_clusters[0][i], student_clusters[1][i]))\n",
    "\n",
    "# Separate clusters into individual lists\n",
    "c0 = list(filter(lambda x: x[1] == 0, sc))\n",
    "c1 = list(filter(lambda x: x[1] == 1, sc))\n",
    "c2 = list(filter(lambda x: x[1] == 2, sc))\n",
    "c3 = list(filter(lambda x: x[1] == 3, sc))\n",
    "c4 = list(filter(lambda x: x[1] == 4, sc))\n",
    "\n",
    "# Randomly pick a student from each cluster and place them in a group together.\n",
    "# Repeat until at least 1 cluster has no more students\n",
    "clist = [c0, c1, c2, c3, c4]\n",
    "\n",
    "all_groups = []\n",
    "while max(len(c0), len(c1), len(c2), len(c3), len(c4)) > 0:  # \"While there exists at least 1 unassigned student\"\n",
    "    this_group = []\n",
    "    for cluster in clist:  # \"For each of the clusters\"\n",
    "        if len(cluster) == 0:  # If cluster is empty, go to next cluster\n",
    "            continue\n",
    "        cnum = cluster[0][1]  # Identify which cluster is active\n",
    "        rand = random.randint(0, len(cluster) - 1)  # RNG for which student will be assigned within given cluster\n",
    "        this_group.append(cluster[rand][0])\n",
    "        if cnum == 0:   # When a student is selected, they are removed from the list\n",
    "            c0.remove(c0[rand])\n",
    "        elif cnum == 1:\n",
    "            c1.remove(c1[rand])\n",
    "        elif cnum == 2:\n",
    "            c2.remove(c2[rand])\n",
    "        elif cnum == 3:\n",
    "            c3.remove(c3[rand])\n",
    "        elif cnum == 4:\n",
    "            c4.remove(c4[rand])\n",
    "\n",
    "    all_groups.append(this_group)  # After all clusters have been done, add this group to master list\n",
    "\n",
    "print(all_groups)\n",
    "print(clist)"
   ]
  },
  {
   "cell_type": "code",
   "execution_count": 30,
   "id": "b5c32b7f-aa63-421c-9817-87e03730255a",
   "metadata": {},
   "outputs": [
    {
     "name": "stdout",
     "output_type": "stream",
     "text": [
      "[[12, 23, 18, 5, 20], [22, 6, 7, 13, 1], [9, 11, 21, 4, 15], [17, 10, 2, 19, 8], [3, 16, 14], [], []]\n",
      "[[12, 23, 18, 5, 20], [22, 6, 7, 13, 1], [9, 11, 21, 4, 15], [17, 10, 2, 19, 8], [3, 16, 14]]\n",
      "[[23, 18, 5, 20], [22, 6, 7, 13, 1], [9, 11, 21, 4, 15], [17, 10, 2, 19, 8], [3, 16, 14, 12]]\n"
     ]
    }
   ],
   "source": [
    "# STEP 5: Reallocate groups for balance\n",
    "# Groups must have a maximum of 5, minimum of 4\n",
    "\n",
    "# If group has <4...\n",
    "for group in all_groups:\n",
    "    if len(group) > 3:\n",
    "        continue\n",
    "\n",
    "    # ...then remove members of this group...\n",
    "\n",
    "    # ...and allocate to existing groups of <5\n",
    "    while len(group) != 0:\n",
    "        transfer = group[0]\n",
    "\n",
    "        for regroup in all_groups:\n",
    "            if len(regroup) <5 and group!=regroup:\n",
    "                regroup.append(transfer)\n",
    "                break\n",
    "        group.remove(transfer)\n",
    "\n",
    "print(all_groups)\n",
    "\n",
    "\n",
    "# now remove any empty groups\n",
    "none_groups=[group for group in all_groups if len(group)>0]\n",
    "\n",
    "print(none_groups)\n",
    "        \n",
    "\n",
    "all_groups=none_groups\n",
    "\n",
    "# If there exists only 1 incomplete group among groups of 5...\n",
    "if len(all_groups[len(all_groups)-1]) < 4 and len(all_groups[len(all_groups)-2])==5:\n",
    "    lone_group = all_groups[len(all_groups)-1]\n",
    "\n",
    "# ...take 1 from each group of 5 until incomplete group reaches 4\n",
    "    gnum = 0\n",
    "    while len(lone_group) < 4:\n",
    "        transfer = all_groups[gnum][0]\n",
    "        lone_group.append(transfer)\n",
    "        all_groups[gnum].remove(transfer)\n",
    "        gnum = gnum+1\n",
    "print(all_groups)"
   ]
  }
 ],
 "metadata": {
  "kernelspec": {
   "display_name": "Python 3 (ipykernel)",
   "language": "python",
   "name": "python3"
  },
  "language_info": {
   "codemirror_mode": {
    "name": "ipython",
    "version": 3
   },
   "file_extension": ".py",
   "mimetype": "text/x-python",
   "name": "python",
   "nbconvert_exporter": "python",
   "pygments_lexer": "ipython3",
   "version": "3.9.18"
  }
 },
 "nbformat": 4,
 "nbformat_minor": 5
}
